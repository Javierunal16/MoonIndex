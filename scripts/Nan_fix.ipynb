{
 "cells": [
  {
   "cell_type": "code",
   "execution_count": 2,
   "id": "09820c4f-24fc-4796-bdc9-5e14c12a39d9",
   "metadata": {},
   "outputs": [],
   "source": [
    "import rasterio as rio\n",
    "import numpy as np\n",
    "import rioxarray as riox\n",
    "from numpy import inf"
   ]
  },
  {
   "cell_type": "code",
   "execution_count": 67,
   "id": "df99fb0a-2e9a-479b-9e82-e8d0da8f53ed",
   "metadata": {},
   "outputs": [],
   "source": [
    "path_data='/home/jovyan/work/Index/data'\n",
    "target='m3g20090607t201038.BSQ_idx_v2_newCR'\n",
    "imput_cube=riox.open_rasterio(f'{path_data}/{target}.tif') "
   ]
  },
  {
   "cell_type": "code",
   "execution_count": null,
   "id": "94b5115f-07cb-4812-9475-e3c9c787ab58",
   "metadata": {},
   "outputs": [],
   "source": [
    "imput_cube.data"
   ]
  },
  {
   "cell_type": "code",
   "execution_count": 68,
   "id": "fa66acf2-c872-404d-be66-4be64b5a808e",
   "metadata": {},
   "outputs": [],
   "source": [
    "imput_cube.data[imput_cube.data == -inf] = 6.5535000e+04"
   ]
  },
  {
   "cell_type": "code",
   "execution_count": 69,
   "id": "8cc075d3-4305-43ba-8bb1-db03b8412310",
   "metadata": {},
   "outputs": [
    {
     "data": {
      "text/plain": [
       "array([[0.38705054, 0.38705054, 0.38705054, ..., 0.38705054, 0.38705054,\n",
       "        0.38705054],\n",
       "       [0.38705054, 0.38705054, 0.38705054, ..., 0.38705054, 0.38705054,\n",
       "        0.38705054],\n",
       "       [0.38705054, 0.38705054, 0.38705054, ..., 0.38705054, 0.38705054,\n",
       "        0.38705054],\n",
       "       ...,\n",
       "       [0.38705054, 0.38705054, 0.38705054, ..., 0.38705054, 0.38705054,\n",
       "        0.38705054],\n",
       "       [0.38705054, 0.38705054, 0.38705054, ..., 0.38705054, 0.38705054,\n",
       "        0.38705054],\n",
       "       [0.38705054, 0.38705054, 0.38705054, ..., 0.38705054, 0.38705054,\n",
       "        0.38705054]], dtype=float32)"
      ]
     },
     "execution_count": 69,
     "metadata": {},
     "output_type": "execute_result"
    }
   ],
   "source": [
    "imput_cube[26].data"
   ]
  },
  {
   "cell_type": "code",
   "execution_count": 70,
   "id": "43375f34-b375-4fb0-8ea4-c6f409661631",
   "metadata": {},
   "outputs": [],
   "source": [
    "imput_cube[23].data[imput_cube[23].data == -7.5650001e+00] = 6.5535000e+04"
   ]
  },
  {
   "cell_type": "code",
   "execution_count": 71,
   "id": "0dc0b9e7-5949-41fd-a572-85fe9fe27b95",
   "metadata": {},
   "outputs": [],
   "source": [
    "imput_cube[25].data[imput_cube[25].data == -6.8200002e+00] = 6.5535000e+04"
   ]
  },
  {
   "cell_type": "code",
   "execution_count": 72,
   "id": "50d48fdb-8b26-43ec-bed4-958c75c8e923",
   "metadata": {},
   "outputs": [],
   "source": [
    "imput_cube[26].data[imput_cube[26].data == 3.8705054e-01] = 6.5535000e+04"
   ]
  },
  {
   "cell_type": "code",
   "execution_count": 73,
   "id": "10411344-4e73-434b-a99d-41b51cbac764",
   "metadata": {},
   "outputs": [],
   "source": [
    "imput_cube.rio.to_raster(f'{path_data}/{target}2.tif') "
   ]
  },
  {
   "cell_type": "code",
   "execution_count": 4,
   "id": "5b5e48e7-3ba8-434d-9554-dd41865312c0",
   "metadata": {},
   "outputs": [],
   "source": [
    "#Defining the paths\n",
    "path_data='/home/jovyan/work/Index/data'\n",
    "path_results='/home/jovyan/work/Index/results'\n",
    "target='M3_Valentine1'"
   ]
  },
  {
   "cell_type": "code",
   "execution_count": 5,
   "id": "2e0e44d0-bb70-4cbe-b07a-32a8de6d7e0b",
   "metadata": {},
   "outputs": [],
   "source": [
    "#Import data: raster and wavelengths\n",
    "input_cube=riox.open_rasterio(f'{path_data}/{target}.tif')  \n",
    "wavelengths=np.loadtxt(f'{path_data}/Wavelength.txt', delimiter=\",\")  #This file contains the wavelegnths values of M3, it is neccesary to have it\n",
    "wavelengths_full=(wavelengths/1000).astype(np.float32) #To have the values in micrometers "
   ]
  },
  {
   "cell_type": "code",
   "execution_count": 8,
   "id": "7bfc6d23-28ac-42d2-89fe-f38a6d52771a",
   "metadata": {},
   "outputs": [
    {
     "data": {
      "text/plain": [
       "1.57886"
      ]
     },
     "execution_count": 8,
     "metadata": {},
     "output_type": "execute_result"
    }
   ],
   "source": [
    "wavelengths_full[47]"
   ]
  },
  {
   "cell_type": "code",
   "execution_count": 7,
   "id": "b0099b0f-a55c-4e3e-9793-3b456765eb90",
   "metadata": {},
   "outputs": [
    {
     "data": {
      "text/plain": [
       "array([0.03991997, 0.03992999, 0.03992003, 0.03992999, 0.02994001,\n",
       "       0.01995999, 0.01995999, 0.01997   , 0.01995999, 0.01996005,\n",
       "       0.01995999, 0.01995999, 0.01995999, 0.01997   , 0.01996005,\n",
       "       0.01995999, 0.01995999, 0.01995999, 0.01997006, 0.01995993,\n",
       "       0.01996005, 0.01995993, 0.01996005, 0.01997006, 0.01995993,\n",
       "       0.01996005, 0.01995993, 0.01996005, 0.01997006, 0.01995993,\n",
       "       0.01996005, 0.01995993, 0.01996005, 0.01997006, 0.01995993,\n",
       "       0.01996005, 0.01995993, 0.01996005, 0.01997006, 0.01995993,\n",
       "       0.01996005, 0.01995993, 0.01996005, 0.01996005, 0.01996994,\n",
       "       0.01996005, 0.02994001, 0.03992999, 0.03991997, 0.03991997,\n",
       "       0.03992999, 0.03992009, 0.03991997, 0.03992999, 0.03991997,\n",
       "       0.03992999, 0.03991997, 0.03991997, 0.03993011, 0.03992009,\n",
       "       0.03992987, 0.03992009, 0.03991985, 0.03993011, 0.03991985,\n",
       "       0.03993011, 0.03992009, 0.03991985, 0.03993011, 0.03991985,\n",
       "       0.03992009, 0.03993011, 0.03991985, 0.03993011, 0.03991985,\n",
       "       0.03992009, 0.03993011, 0.03991985, 0.03993011, 0.03991985,\n",
       "       0.03992009, 0.03993011], dtype=float32)"
      ]
     },
     "execution_count": 7,
     "metadata": {},
     "output_type": "execute_result"
    }
   ],
   "source": [
    "SR=np.diff(wavelengths_full)\n",
    "SR"
   ]
  },
  {
   "cell_type": "code",
   "execution_count": null,
   "id": "e6f32373-65ce-4089-8fe2-c38e506af744",
   "metadata": {},
   "outputs": [],
   "source": []
  }
 ],
 "metadata": {
  "kernelspec": {
   "display_name": "spectral",
   "language": "python",
   "name": "spectral"
  },
  "language_info": {
   "codemirror_mode": {
    "name": "ipython",
    "version": 3
   },
   "file_extension": ".py",
   "mimetype": "text/x-python",
   "name": "python",
   "nbconvert_exporter": "python",
   "pygments_lexer": "ipython3",
   "version": "3.10.6"
  }
 },
 "nbformat": 4,
 "nbformat_minor": 5
}
