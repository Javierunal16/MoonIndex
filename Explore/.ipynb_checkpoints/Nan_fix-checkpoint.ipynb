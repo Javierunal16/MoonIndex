{
 "cells": [
  {
   "cell_type": "code",
   "execution_count": 59,
   "id": "09820c4f-24fc-4796-bdc9-5e14c12a39d9",
   "metadata": {},
   "outputs": [],
   "source": [
    "import rasterio as rio\n",
    "import numpy as np\n",
    "import rioxarray as riox\n",
    "from numpy import inf"
   ]
  },
  {
   "cell_type": "code",
   "execution_count": 67,
   "id": "df99fb0a-2e9a-479b-9e82-e8d0da8f53ed",
   "metadata": {},
   "outputs": [],
   "source": [
    "path_data='/home/jovyan/work/Index/data'\n",
    "target='m3g20090607t201038.BSQ_idx_v2_newCR'\n",
    "imput_cube=riox.open_rasterio(f'{path_data}/{target}.tif') "
   ]
  },
  {
   "cell_type": "code",
   "execution_count": null,
   "id": "94b5115f-07cb-4812-9475-e3c9c787ab58",
   "metadata": {},
   "outputs": [],
   "source": [
    "imput_cube.data"
   ]
  },
  {
   "cell_type": "code",
   "execution_count": 68,
   "id": "fa66acf2-c872-404d-be66-4be64b5a808e",
   "metadata": {},
   "outputs": [],
   "source": [
    "imput_cube.data[imput_cube.data == -inf] = 6.5535000e+04"
   ]
  },
  {
   "cell_type": "code",
   "execution_count": 69,
   "id": "8cc075d3-4305-43ba-8bb1-db03b8412310",
   "metadata": {},
   "outputs": [
    {
     "data": {
      "text/plain": [
       "array([[0.38705054, 0.38705054, 0.38705054, ..., 0.38705054, 0.38705054,\n",
       "        0.38705054],\n",
       "       [0.38705054, 0.38705054, 0.38705054, ..., 0.38705054, 0.38705054,\n",
       "        0.38705054],\n",
       "       [0.38705054, 0.38705054, 0.38705054, ..., 0.38705054, 0.38705054,\n",
       "        0.38705054],\n",
       "       ...,\n",
       "       [0.38705054, 0.38705054, 0.38705054, ..., 0.38705054, 0.38705054,\n",
       "        0.38705054],\n",
       "       [0.38705054, 0.38705054, 0.38705054, ..., 0.38705054, 0.38705054,\n",
       "        0.38705054],\n",
       "       [0.38705054, 0.38705054, 0.38705054, ..., 0.38705054, 0.38705054,\n",
       "        0.38705054]], dtype=float32)"
      ]
     },
     "execution_count": 69,
     "metadata": {},
     "output_type": "execute_result"
    }
   ],
   "source": [
    "imput_cube[26].data"
   ]
  },
  {
   "cell_type": "code",
   "execution_count": 70,
   "id": "43375f34-b375-4fb0-8ea4-c6f409661631",
   "metadata": {},
   "outputs": [],
   "source": [
    "imput_cube[23].data[imput_cube[23].data == -7.5650001e+00] = 6.5535000e+04"
   ]
  },
  {
   "cell_type": "code",
   "execution_count": 71,
   "id": "0dc0b9e7-5949-41fd-a572-85fe9fe27b95",
   "metadata": {},
   "outputs": [],
   "source": [
    "imput_cube[25].data[imput_cube[25].data == -6.8200002e+00] = 6.5535000e+04"
   ]
  },
  {
   "cell_type": "code",
   "execution_count": 72,
   "id": "50d48fdb-8b26-43ec-bed4-958c75c8e923",
   "metadata": {},
   "outputs": [],
   "source": [
    "imput_cube[26].data[imput_cube[26].data == 3.8705054e-01] = 6.5535000e+04"
   ]
  },
  {
   "cell_type": "code",
   "execution_count": 73,
   "id": "10411344-4e73-434b-a99d-41b51cbac764",
   "metadata": {},
   "outputs": [],
   "source": [
    "imput_cube.rio.to_raster(f'{path_data}/{target}2.tif') "
   ]
  },
  {
   "cell_type": "code",
   "execution_count": null,
   "id": "2e0e44d0-bb70-4cbe-b07a-32a8de6d7e0b",
   "metadata": {},
   "outputs": [],
   "source": []
  }
 ],
 "metadata": {
  "kernelspec": {
   "display_name": "spectral",
   "language": "python",
   "name": "spectral"
  },
  "language_info": {
   "codemirror_mode": {
    "name": "ipython",
    "version": 3
   },
   "file_extension": ".py",
   "mimetype": "text/x-python",
   "name": "python",
   "nbconvert_exporter": "python",
   "pygments_lexer": "ipython3",
   "version": "3.10.6"
  }
 },
 "nbformat": 4,
 "nbformat_minor": 5
}
